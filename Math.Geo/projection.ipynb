{
 "cells": [
  {
   "cell_type": "code",
   "execution_count": 19,
   "metadata": {},
   "outputs": [],
   "source": [
    "import numpy as np\n",
    "from numpy import sqrt as sq\n",
    "from numpy import linalg\n",
    "\n",
    "import matplotlib.pyplot as plt"
   ]
  },
  {
   "cell_type": "code",
   "execution_count": 20,
   "metadata": {},
   "outputs": [],
   "source": [
    "#Projektion: Matrix (fuer homogene Koordinaten), Datenpunkte (affin gegeben)\n",
    "\n",
    "def projection(P,data):\n",
    "    x = homogenize(data)\n",
    "    y = np.dot(P,x)\n",
    "    y = affinize(y)\n",
    "    return y[0:2,:]"
   ]
  },
  {
   "cell_type": "code",
   "execution_count": 21,
   "metadata": {},
   "outputs": [],
   "source": [
    "#Diese Funktion erzeugt die Ecken eines Quaders, der ueber Intervalle gegeben ist\n",
    "\n",
    "def get_corners(qx,qy,qz):\n",
    "    x = np.zeros((3,8), dtype = float)\n",
    "    count = 0\n",
    "    ind = 0\n",
    "    for i in qx:\n",
    "        for j in qy:\n",
    "            for k in qz:\n",
    "                x[0,ind] = i\n",
    "                x[1,ind] = j\n",
    "                x[2,ind] = k\n",
    "                ind += 1\n",
    "    return x"
   ]
  },
  {
   "cell_type": "code",
   "execution_count": 9,
   "metadata": {},
   "outputs": [],
   "source": [
    "def homogenize(data):\n",
    "    s = data.shape\n",
    "    x = np.zeros((4,s[1]), dtype = float)\n",
    "    x[0:3,:] = data\n",
    "    w = np.ones(s[1])\n",
    "    x[3,:] = w\n",
    "    return x"
   ]
  },
  {
   "cell_type": "code",
   "execution_count": 10,
   "metadata": {},
   "outputs": [],
   "source": [
    "def affinize(y):\n",
    "    D = np.diag(y[3,:])\n",
    "    y = np.dot(y,np.linalg.inv(D))\n",
    "    return y"
   ]
  },
  {
   "cell_type": "markdown",
   "metadata": {},
   "source": [
    "# Skript orthogonale Parallelprojektion"
   ]
  },
  {
   "cell_type": "code",
   "execution_count": 22,
   "metadata": {},
   "outputs": [
    {
     "data": {
      "image/png": "[encoded data removed]",
      "text/plain": [
       "<Figure size 432x288 with 1 Axes>"
      ]
     },
     "metadata": {
      "needs_background": "light"
     },
     "output_type": "display_data"
    }
   ],
   "source": [
    "#Voreinstellung Betrachterpunkt, Ursprung Bildebene, Up-Vektor\n",
    "\n",
    "Pb = np.array([9.,10.,2.])\n",
    "Po = np.array([5.,2.,6.])\n",
    "e3 = np.array([0.,0.,1.])\n",
    "\n",
    "#Verschiebung des Betrachterpunktes und Berechnung des Nomalvektors v\n",
    "\n",
    "Pbneu = Pb - Po\n",
    "dist = linalg.norm(Pbneu,2)\n",
    "v = Pbneu/dist\n",
    "\n",
    "#Berechnung des up-Vektors\n",
    "\n",
    "#Zunaechst Verschiebung des dritten Einheitsvektors\n",
    "\n",
    "z = e3 - Po\n",
    "\n",
    "#Anschliessend Projektion dessen auf die Bildebene und Normierung\n",
    "\n",
    "u = z - (np.dot(z,v))*v\n",
    "up = u/linalg.norm(u,2)\n",
    "\n",
    "#Berechnung des ersten Vektors des Betrachterkoordinatensystems\n",
    "\n",
    "w = np.cross(up,v)\n",
    "\n",
    "#Aufstellung der Transfomormaionsmatrizen: Verschiebung, Basis, Projektion\n",
    "\n",
    "T = np.array([[1.,0,0,-Po[0]],[0,1.,0,-Po[1]],[0,0,1.,-Po[2]],[0,0,0,1.]])\n",
    "B = np.array([[w[0],w[1],w[2],0],[up[0],up[1],up[2],0],[v[0],v[1],v[2],0],[0,0,0,1.]])\n",
    "P1 = np.array([[1.,0,0,0],[0,1.,0,0],[0,0,0,0],[0,0,0,1.]])\n",
    "\n",
    "Par = np.dot(P1,np.dot(B,T))\n",
    "\n",
    "points = get_corners([1,3],[1,5],[2,10])\n",
    "\n",
    "y = projection(Par,points)\n",
    "\n",
    "#print(y)\n",
    "plt.plot(y[0,:],y[1,:],'bs')\n",
    "plt.show()\n",
    "\n"
   ]
  },
  {
   "cell_type": "markdown",
   "metadata": {},
   "source": [
    "# Skript Perspektivprojektion"
   ]
  },
  {
   "cell_type": "code",
   "execution_count": 24,
   "metadata": {},
   "outputs": [
    {
     "data": {
      "image/png": "[encoded data removed]",
      "text/plain": [
       "<Figure size 432x288 with 1 Axes>"
      ]
     },
     "metadata": {
      "needs_background": "light"
     },
     "output_type": "display_data"
    }
   ],
   "source": [
    "#Voreinstellung Betrachterpunkt, Ursprung Bildebene, Up-Vektor\n",
    "\n",
    "Pb = np.array([6.,10.,1.])\n",
    "Po = np.array([5.,2.,6.])\n",
    "e3 = np.array([0.,0.,1.])\n",
    "\n",
    "#Verschiebung des Betrachterpunktes und Berechnung des Nomalvektors v\n",
    "\n",
    "Pbneu = Pb - Po\n",
    "dist = linalg.norm(Pbneu,2)\n",
    "v = Pbneu/dist\n",
    "\n",
    "#Berechnung des up-Vektors\n",
    "\n",
    "#Zunaechst Verschiebung des dritten Einheitsvektors\n",
    "\n",
    "z = e3 - Po\n",
    "\n",
    "#Bestimmung des up-Vektors über Geradengleichung\n",
    "\n",
    "#Richtungsvektor\n",
    "\n",
    "di = z - Pbneu\n",
    "a = np.dot(di,Pbneu)\n",
    "b = dist**2\n",
    "\n",
    "t = -b/a\n",
    "\n",
    "u = Pbneu + t*di\n",
    "up = u/linalg.norm(u,2)\n",
    "w = np.cross(up,v)\n",
    "\n",
    "P2 = np.array([[1.,0,0,0],[0,1.,0,0],[0,0,0,0],[0,0,-1./dist,1]])\n",
    "B = np.array([[w[0],w[1],w[2],0],[up[0],up[1],up[2],0],[v[0],v[1],v[2],0],[0,0,0,1.]])\n",
    "T = np.array([[1.,0,0,-Po[0]],[0,1.,0,-Po[1]],[0,0,1.,-Po[2]],[0,0,0,1.]])\n",
    "\n",
    "Per = np.dot(P2,np.dot(B,T))\n",
    "\n",
    "points = get_corners([1,3],[1,5],[2,10])\n",
    "\n",
    "y = projection(Per,points)\n",
    "#y = projection2(Per,[-1,1.],[-1,1],[-1.,1.])\n",
    "\n",
    "plt.plot(y[0,:],y[1,:],'bs')\n",
    "plt.show()\n"
   ]
  },
  {
   "cell_type": "markdown",
   "metadata": {},
   "source": [
    "# Aufgabe 3"
   ]
  },
  {
   "cell_type": "code",
   "execution_count": 13,
   "metadata": {
    "scrolled": true
   },
   "outputs": [
    {
     "data": {
      "image/png": "[encoded data removed]",
      "text/plain": [
       "<Figure size 432x288 with 1 Axes>"
      ]
     },
     "metadata": {
      "needs_background": "light"
     },
     "output_type": "display_data"
    }
   ],
   "source": [
    "#Voreinstellung Betrachterpunkt, Ursprung Bildebene, Up-Vektor\n",
    "\n",
    "Pb = np.array([0,0,-4.])\n",
    "Po = np.array([0,0,0])\n",
    "e3 = np.array([0,1.,0])\n",
    "\n",
    "#Verschiebung des Betrachterpunktes und Berechnung des Nomalvektors v\n",
    "\n",
    "Pbneu = Pb - Po\n",
    "dist = linalg.norm(Pbneu,2)\n",
    "v = Pbneu/dist\n",
    "\n",
    "#Berechnung des up-Vektors\n",
    "\n",
    "#Zunaechst Verschiebung des dritten Einheitsvektors\n",
    "\n",
    "z = e3 - Po\n",
    "\n",
    "#Bestimmung des up-Vektors über Geradengleichung\n",
    "\n",
    "#Richtungsvektor\n",
    "\n",
    "di = z - Pbneu\n",
    "a = np.dot(di,Pbneu)\n",
    "b = dist**2\n",
    "\n",
    "t = -b/a\n",
    "\n",
    "u = Pbneu + t*di\n",
    "up = u/linalg.norm(u,2)\n",
    "w = np.cross(up,v)\n",
    "\n",
    "P2 = np.array([[1.,0,0,0],[0,1.,0,0],[0,0,0,0],[0,0,-1./dist,1]])\n",
    "B = np.array([[w[0],w[1],w[2],0],[u[0],u[1],u[2],0],[v[0],v[1],v[2],0],[0,0,0,1.]])\n",
    "T = np.array([[1.,0,0,-Po[0]],[0,1.,0,-Po[1]],[0,0,1.,-Po[2]],[0,0,0,1.]])\n",
    "\n",
    "Per = np.dot(P2,np.dot(B,T))\n",
    "\n",
    "data = get_corners([1,2],[1,2],[0,1])\n",
    "\n",
    "y = projection(Per,data)\n",
    "#y = projection2(Per,[-1,1.],[-1,1],[-1.,1.])\n",
    "\n",
    "plt.plot(y[0,:],y[1,:],'bs')\n",
    "plt.show()\n"
   ]
  },
  {
   "cell_type": "markdown",
   "metadata": {},
   "source": [
    "# Parallelogramm, zweites Blatt"
   ]
  },
  {
   "cell_type": "code",
   "execution_count": 14,
   "metadata": {},
   "outputs": [
    {
     "name": "stdout",
     "output_type": "stream",
     "text": [
      "[[ 1.  0. -1.]\n",
      " [ 0.  1. -2.]\n",
      " [ 0.  0.  1.]]\n"
     ]
    }
   ],
   "source": [
    "#Verschiebung\n",
    "T1 = np.array([[1.,0.,-1.],[0,1.,-2.],[0,0,1.]])\n",
    "print(T1)"
   ]
  },
  {
   "cell_type": "code",
   "execution_count": 15,
   "metadata": {},
   "outputs": [
    {
     "name": "stdout",
     "output_type": "stream",
     "text": [
      "[[ 1.    -0.125  0.   ]\n",
      " [-0.25   1.     0.   ]\n",
      " [ 0.     0.     1.   ]]\n"
     ]
    }
   ],
   "source": [
    "#Scherung\n",
    "T2 = np.array([[1.,-1./8.,0],[-1./4.,1,0],[0,0,1]])\n",
    "print(T2)"
   ]
  },
  {
   "cell_type": "code",
   "execution_count": 16,
   "metadata": {},
   "outputs": [
    {
     "name": "stdout",
     "output_type": "stream",
     "text": [
      "[[0.25806452 0.         0.        ]\n",
      " [0.         0.12903226 0.        ]\n",
      " [0.         0.         1.        ]]\n"
     ]
    }
   ],
   "source": [
    "#Skalierung anisotrop\n",
    "T3 =  np.array([[8./31.,0,0],[0,4./31.,0],[0,0,1]])\n",
    "print(T3)"
   ]
  },
  {
   "cell_type": "code",
   "execution_count": 17,
   "metadata": {},
   "outputs": [
    {
     "name": "stdout",
     "output_type": "stream",
     "text": [
      "[[ 0.25806452 -0.03225806 -0.19354839]\n",
      " [-0.03225806  0.12903226 -0.22580645]\n",
      " [ 0.          0.          1.        ]]\n"
     ]
    }
   ],
   "source": [
    "T = np.dot(T3,np.dot(T2,T1))\n",
    "print(T)"
   ]
  },
  {
   "cell_type": "code",
   "execution_count": 70,
   "metadata": {},
   "outputs": [
    {
     "name": "stdout",
     "output_type": "stream",
     "text": [
      "[[ 64.  -8. -48.]\n",
      " [ -8.  32. -56.]\n",
      " [  0.   0. 248.]]\n"
     ]
    }
   ],
   "source": [
    "#Die Matrix hat mit geeignetem Vorfakto diese Form ... \n",
    "print(248.*T)"
   ]
  },
  {
   "cell_type": "code",
   "execution_count": 18,
   "metadata": {},
   "outputs": [
    {
     "name": "stdout",
     "output_type": "stream",
     "text": [
      "[[0. 1. 1. 0.]\n",
      " [0. 0. 1. 1.]\n",
      " [1. 1. 1. 1.]]\n"
     ]
    }
   ],
   "source": [
    "#Test\n",
    "X = np.array([[1.,2.,1.],[5.,3.,1.],[6.,11.,1.],[2.,10.,1.]])\n",
    "X = np.transpose(X)\n",
    "print(np.dot(T,X))          "
   ]
  },
  {
   "cell_type": "code",
   "execution_count": null,
   "metadata": {},
   "outputs": [],
   "source": []
  },
  {
   "cell_type": "code",
   "execution_count": null,
   "metadata": {},
   "outputs": [],
   "source": []
  },
  {
   "cell_type": "code",
   "execution_count": null,
   "metadata": {},
   "outputs": [],
   "source": []
  }
 ],
 "metadata": {
  "kernelspec": {
   "display_name": "Python 3",
   "language": "python",
   "name": "python3"
  },
  "language_info": {
   "codemirror_mode": {
    "name": "ipython",
    "version": 3
   },
   "file_extension": ".py",
   "mimetype": "text/x-python",
   "name": "python",
   "nbconvert_exporter": "python",
   "pygments_lexer": "ipython3",
   "version": "3.7.4"
  }
 },
 "nbformat": 4,
 "nbformat_minor": 2
}
